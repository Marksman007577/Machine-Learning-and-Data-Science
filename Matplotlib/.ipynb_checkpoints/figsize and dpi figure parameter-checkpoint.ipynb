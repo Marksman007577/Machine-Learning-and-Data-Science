{
 "cells": [
  {
   "cell_type": "code",
   "execution_count": null,
   "id": "c24bf963",
   "metadata": {},
   "outputs": [],
   "source": [
    "import numpy as np\n",
    "import matplotlib.pyplot as plt\n",
    "\n",
    "# Two parameter of a plot that can be changed are thr figsize and the dpi\n",
    "# figsize() resizes the image to your specification while dip makes the plot clearer. use dpi of 300\n",
    "\n",
    "fig = plt.figure(figsize=(2.0,2.0),dpi=300)\n",
    "axes1 = fig.add_axes([0,0,1,1])\n",
    "\n",
    "a = np.linspace(0,10,11)\n",
    "b = a**4\n",
    "\n",
    "\n",
    "axes1.set_title(\"Quadratic Plot\")\n",
    "axes1.set_xlabel(\"X-Axis\")\n",
    "axes1.set_ylabel(\"Y-Axis\")\n",
    "axes1.set_xlim(0,11)\n",
    "axes1.set_ylim(0,10005)\n",
    "axes1.plot(a,b)\n",
    "\n",
    "# Saving or Exporting a figure\n",
    "# Note: Remember to always include the parameter bbox_inches='tight' so that it takes the scaling part of the plot\n",
    "# Without adding the bbox_inches, to your save function, you will loose the scaling part of your plot\n",
    "\n",
    "fig.savefig(\"New plot.png\", bbox_inches=\"tight\")"
   ]
  }
 ],
 "metadata": {
  "kernelspec": {
   "display_name": "Python 3 (ipykernel)",
   "language": "python",
   "name": "python3"
  },
  "language_info": {
   "codemirror_mode": {
    "name": "ipython",
    "version": 3
   },
   "file_extension": ".py",
   "mimetype": "text/x-python",
   "name": "python",
   "nbconvert_exporter": "python",
   "pygments_lexer": "ipython3",
   "version": "3.9.15"
  }
 },
 "nbformat": 4,
 "nbformat_minor": 5
}
