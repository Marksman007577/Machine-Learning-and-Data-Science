{
 "cells": [
  {
   "cell_type": "code",
   "execution_count": null,
   "id": "63082cb4",
   "metadata": {},
   "outputs": [],
   "source": [
    "import numpy as np\n",
    "import matplotlib.pyplot as plt\n",
    "\n",
    "x = np.arange(0,10)\n",
    "y = 2*x\n",
    "\n",
    "a = np.linspace(0,10,11)\n",
    "b = a**4\n",
    "\n",
    "c = a**3\n",
    "\n",
    "fig = plt.figure() # create the figure canvas\n",
    "\n",
    "axes1 = fig.add_axes([0,0,1,1]) # the x=0,y=0, determines the starting point of plot u=1,v=1 determines the width and height of canvas\n",
    "axes2 = fig.add_axes([1,0,0.2,0.2])\n",
    "axes3 = fig.add_axes([0,1,0.25,0.25]) #reduces the starting points for the small plot to 20 and 50 percent of the canvas and 25, 25 percent for width and height\n",
    "\n",
    "# set properties\n",
    "axes1.set_title(\"Linear Plot\")\n",
    "axes1.set_xlabel(\"X-Axis\")\n",
    "axes1.set_ylabel(\"Y-Axis\")\n",
    "axes1.set_xlim(0,10)\n",
    "axes1.set_ylim(0,19)\n",
    "\n",
    "axes2.set_title(\"4th Order Plot\")\n",
    "axes2.set_xlabel(\"X-Axis\")\n",
    "axes2.set_ylabel(\"Y-Axis\")\n",
    "axes2.set_xlim(0,10)\n",
    "axes2.set_ylim(0,19)\n",
    "\n",
    "axes3.set_title(\"Quadratic Plot\")\n",
    "axes3.set_xlabel(\"X-Axis\")\n",
    "axes3.set_ylabel(\"Y-Axis\")\n",
    "axes3.set_xlim(0,10)\n",
    "axes3.set_ylim(0,19)\n",
    "\n",
    "# plotting multiple plots on one canvas\n",
    "axes1.plot(x,y)\n",
    "axes2.plot(a,b)\n",
    "axes3.plot(a,c)\n",
    "plt.show()"
   ]
  }
 ],
 "metadata": {
  "kernelspec": {
   "display_name": "Python 3 (ipykernel)",
   "language": "python",
   "name": "python3"
  },
  "language_info": {
   "codemirror_mode": {
    "name": "ipython",
    "version": 3
   },
   "file_extension": ".py",
   "mimetype": "text/x-python",
   "name": "python",
   "nbconvert_exporter": "python",
   "pygments_lexer": "ipython3",
   "version": "3.9.15"
  }
 },
 "nbformat": 4,
 "nbformat_minor": 5
}
