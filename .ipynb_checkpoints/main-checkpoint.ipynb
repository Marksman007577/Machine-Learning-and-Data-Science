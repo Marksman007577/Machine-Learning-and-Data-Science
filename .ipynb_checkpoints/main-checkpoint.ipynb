{
 "cells": [
  {
   "cell_type": "code",
   "execution_count": null,
   "id": "7f3fe1c8",
   "metadata": {},
   "outputs": [],
   "source": [
    "import numpy as np\n",
    "import pandas as pd\n",
    "\n",
    "np.random.seed(101)\n",
    "my_data = np.random.randint(0, 100, (4, 3))\n",
    "#print(my_data)\n",
    "\n",
    "my_row = [\"CA\", \"NY\", \"AZ\", \"TX\"]\n",
    "my_column = [\"JAN\", \"FEB\", \"MAR\"]\n",
    "\n",
    "df = pd.DataFrame(data=my_data, index=my_row, columns=my_column)\n",
    "print(df)"
   ]
  }
 ],
 "metadata": {
  "kernelspec": {
   "display_name": "Python 3 (ipykernel)",
   "language": "python",
   "name": "python3"
  },
  "language_info": {
   "codemirror_mode": {
    "name": "ipython",
    "version": 3
   },
   "file_extension": ".py",
   "mimetype": "text/x-python",
   "name": "python",
   "nbconvert_exporter": "python",
   "pygments_lexer": "ipython3",
   "version": "3.9.13"
  }
 },
 "nbformat": 4,
 "nbformat_minor": 5
}
