{
 "cells": [
  {
   "cell_type": "code",
   "execution_count": 22,
   "id": "2c7a330f",
   "metadata": {},
   "outputs": [
    {
     "name": "stdout",
     "output_type": "stream",
     "text": [
      "0:2\n",
      "1:3\n",
      "2:4\n",
      "3:5\n",
      "4:6\n",
      "5:7\n",
      "6:8\n",
      "7:9\n",
      "[2 3 4 5 6]\n",
      "[4 5 6 7 8 9]\n"
     ]
    },
    {
     "data": {
      "text/plain": [
       "array([30, 35, 40, 45])"
      ]
     },
     "execution_count": 22,
     "metadata": {},
     "output_type": "execute_result"
    }
   ],
   "source": [
    "import numpy as np\n",
    "\n",
    "#GRABBING A SINGLE ELEMENT FROM A 1-D ARRAY\n",
    "arr = np.array(np.arange(2,10))\n",
    "arr[0]\n",
    "arr[1]\n",
    "arr[2]\n",
    "for i in range(len(arr)):\n",
    "    print (f\"{i}:{arr[i]}\")\n",
    "\n",
    "#GRABBING A SLICE OF ELEMENTS FROM A 1-D ARRAY (INDEXING)\n",
    "arr = np.array(np.arange(2,10))\n",
    "arr1 = arr[:5]\n",
    "arr2 = arr[2:8]\n",
    "print(arr1)\n",
    "print(arr2)\n",
    "\n",
    "#GRABBING A SLICE OF ELEMENTS FROM A N-D ARRAY (INDEXING)\n",
    "arr_2d = np.array([[5,10,15],[20,25,30],[35,40,45]])\n",
    "\n",
    "val1 = arr_2d[0][0]\n",
    "val2 = arr_2d[0][1]\n",
    "val3 = arr_2d[0][2]\n",
    "val4 = arr_2d[1][0]\n",
    "val5 = arr_2d[1][1]\n",
    "val6 = arr_2d[1][2]\n",
    "val7 = arr_2d[2][0]\n",
    "val8 = arr_2d[2][1]\n",
    "val9 = arr_2d[2][2]\n",
    "\n",
    "val10 = arr_2d[0:2, 0:2]\n",
    "val11 = arr_2d[0:2, 1:]\n",
    "val12 = arr_2d[1:, 0:2]\n",
    "val13 = arr_2d[1:, 1:]\n",
    "\n",
    "#CONDITIONAL SELECTIONS\n",
    "arr_2d = np.array([[5,10,15],[20,25,30],[35,40,45]])\n",
    "arr_2d > 25\n",
    "boolean_arr = arr_2d > 25\n",
    "arr_2d[boolean_arr]"
   ]
  },
  {
   "cell_type": "code",
   "execution_count": 12,
   "id": "999b411f",
   "metadata": {},
   "outputs": [
    {
     "data": {
      "text/plain": [
       "(5, 10, 15, 20)"
      ]
     },
     "execution_count": 12,
     "metadata": {},
     "output_type": "execute_result"
    }
   ],
   "source": [
    "val1, val2, val3, val4"
   ]
  },
  {
   "cell_type": "code",
   "execution_count": 14,
   "id": "de1086f2",
   "metadata": {},
   "outputs": [
    {
     "data": {
      "text/plain": [
       "array([[ 5, 10],\n",
       "       [20, 25]])"
      ]
     },
     "execution_count": 14,
     "metadata": {},
     "output_type": "execute_result"
    }
   ],
   "source": [
    "val10"
   ]
  },
  {
   "cell_type": "code",
   "execution_count": 20,
   "id": "c5ac9ce6",
   "metadata": {},
   "outputs": [
    {
     "data": {
      "text/plain": [
       "array([[25, 30],\n",
       "       [40, 45]])"
      ]
     },
     "execution_count": 20,
     "metadata": {},
     "output_type": "execute_result"
    }
   ],
   "source": [
    "val13"
   ]
  },
  {
   "cell_type": "code",
   "execution_count": 23,
   "id": "eda7e39f",
   "metadata": {},
   "outputs": [
    {
     "data": {
      "text/plain": [
       "array([[False, False, False],\n",
       "       [False, False,  True],\n",
       "       [ True,  True,  True]])"
      ]
     },
     "execution_count": 23,
     "metadata": {},
     "output_type": "execute_result"
    }
   ],
   "source": [
    "boolean_arr"
   ]
  },
  {
   "cell_type": "code",
   "execution_count": 24,
   "id": "1f7f2b12",
   "metadata": {},
   "outputs": [
    {
     "data": {
      "text/plain": [
       "array([30, 35, 40, 45])"
      ]
     },
     "execution_count": 24,
     "metadata": {},
     "output_type": "execute_result"
    }
   ],
   "source": [
    "arr_2d[boolean_arr]"
   ]
  },
  {
   "cell_type": "code",
   "execution_count": null,
   "id": "12b4fb58",
   "metadata": {},
   "outputs": [],
   "source": []
  }
 ],
 "metadata": {
  "kernelspec": {
   "display_name": "Python 3 (ipykernel)",
   "language": "python",
   "name": "python3"
  },
  "language_info": {
   "codemirror_mode": {
    "name": "ipython",
    "version": 3
   },
   "file_extension": ".py",
   "mimetype": "text/x-python",
   "name": "python",
   "nbconvert_exporter": "python",
   "pygments_lexer": "ipython3",
   "version": "3.9.13"
  }
 },
 "nbformat": 4,
 "nbformat_minor": 5
}
