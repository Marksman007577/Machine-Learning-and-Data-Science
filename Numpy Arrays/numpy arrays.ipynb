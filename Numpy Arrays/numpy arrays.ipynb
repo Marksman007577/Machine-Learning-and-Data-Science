{
 "cells": [
  {
   "cell_type": "code",
   "execution_count": null,
   "id": "3699cc14",
   "metadata": {},
   "outputs": [],
   "source": [
    "# TASK: Create a numpy array called myarray which consists of 101 evenly linearly\n",
    "# spaced points between 0 and 10.\n",
    "import numpy as np\n",
    "\n",
    "myarray = np.linspace(0, 10, 101)\n",
    "print(myarray)\n",
    "\n",
    "# TASK: Use numpy to check how many rolls were greater than 2.\n",
    "# For example if dice_rolls=[1,2,3] then the answer is 1.\n",
    "# NOTE: Many different ways to do this! Your final answer should be an integer.\n",
    "dice_rolls = np.array([3, 1, 5, 2, 5, 1, 1, 5, 1, 4, 2, 1, 4, 5, 3, 4, 5, 2, 4, 2, 6, 6, 3, 6, 2, 3, 5, 6, 5])\n",
    "\n",
    "total_rolls_over_two = dice_rolls[dice_rolls > 2]\n",
    "num_arr = np.count_nonzero(total_rolls_over_two)\n",
    "print(total_rolls_over_two)\n",
    "print(num_arr)\n",
    "\n",
    "# TASK: Use numpy to check the total remaining in the account after the series of transactions.\n",
    "# NOTE: Many different ways to do this!\n",
    "account_transactions = np.array([100, -200, 300, -400, 100, 100, -230, 450, 500, 2000])\n",
    "\n",
    "account_total = account_transactions.sum()\n",
    "print(account_total)"
   ]
  }
 ],
 "metadata": {
  "kernelspec": {
   "display_name": "Python 3 (ipykernel)",
   "language": "python",
   "name": "python3"
  },
  "language_info": {
   "codemirror_mode": {
    "name": "ipython",
    "version": 3
   },
   "file_extension": ".py",
   "mimetype": "text/x-python",
   "name": "python",
   "nbconvert_exporter": "python",
   "pygments_lexer": "ipython3",
   "version": "3.9.13"
  }
 },
 "nbformat": 4,
 "nbformat_minor": 5
}
