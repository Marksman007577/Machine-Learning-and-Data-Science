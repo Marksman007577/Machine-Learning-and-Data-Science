{
 "cells": [
  {
   "cell_type": "code",
   "execution_count": 15,
   "id": "b8abd40b",
   "metadata": {},
   "outputs": [
    {
     "name": "stdout",
     "output_type": "stream",
     "text": [
      "[0.44583275]\n",
      "[4]\n",
      "[[4 4 9]\n",
      " [6 5 9]\n",
      " [9 4 7]\n",
      " [6 3 9]]\n",
      "[[8 5 6]\n",
      " [8 4 9]\n",
      " [6 6 8]]\n",
      "[2 3 4 5 6 7 8 9]\n",
      "[[2 3 4 5]\n",
      " [6 7 8 9]]\n",
      "2\n",
      "9\n",
      "0\n",
      "7\n",
      "int32\n",
      "(8,)\n"
     ]
    }
   ],
   "source": [
    "import numpy as np\n",
    "\n",
    "#CREATING RANDOM RAND ARRAYS USING FUNCTIONS\n",
    "random_number =np.random.rand(1)\n",
    "print(random_number)\n",
    "\n",
    "#CREATING RANDOM INTEGERS FOR 1-D ARRAY\n",
    "rand_integer = np.random.randint(2,6,1)\n",
    "print(rand_integer)\n",
    "\n",
    "#CREATING RANDOM INTEGERS FOR N-D ARRAY\n",
    "rand_int = np.random.randint(2,10,(4,3))\n",
    "print(rand_int)\n",
    "\n",
    "#USING SEED TO GENERATE N-D ARRAY MATRIX\n",
    "np.random.seed(42)\n",
    "my_mat = np.random.randint(2,10,(3,3))\n",
    "print(my_mat)\n",
    "\n",
    "#RESHAPING AN EXISTING ARRAY\n",
    "arr = np.array(np.arange(2,10))\n",
    "arr_reshape = arr.reshape(2,4)\n",
    "print(arr)\n",
    "print(arr_reshape )\n",
    "\n",
    "#FINDING THE MAX AND MIN OF AN ARRAY\n",
    "arr = np.array(np.arange(2,10))\n",
    "arr_min = arr.min()\n",
    "arr_max = arr.max()\n",
    "\n",
    "print(arr_min)\n",
    "print(arr_max)\n",
    "\n",
    "#FINDING THE MAX AND MIN INDEX LOCATION OF AN ARRAY\n",
    "arr = np.array(np.arange(2,10))\n",
    "arr_min_index = arr.argmin()\n",
    "arr_max_index = arr.argmax()\n",
    "\n",
    "print(arr_min_index)\n",
    "print(arr_max_index)\n",
    "\n",
    "#FINDING THE DATA TYPE OF AN ARRAY\n",
    "arr = np.array(np.arange(2,10))\n",
    "arr_data_type = arr.dtype\n",
    "print(arr_data_type)\n",
    "\n",
    "#FINDING THE DATA SHAPE OF AN ARRAY\n",
    "arr = np.array(np.arange(2,10))\n",
    "arr_data_shape = arr.shape\n",
    "print(arr_data_shape)"
   ]
  },
  {
   "cell_type": "code",
   "execution_count": null,
   "id": "1afb52ab",
   "metadata": {},
   "outputs": [],
   "source": []
  },
  {
   "cell_type": "code",
   "execution_count": null,
   "id": "753e911f",
   "metadata": {},
   "outputs": [],
   "source": []
  },
  {
   "cell_type": "code",
   "execution_count": null,
   "id": "02db8b62",
   "metadata": {},
   "outputs": [],
   "source": []
  },
  {
   "cell_type": "code",
   "execution_count": null,
   "id": "76587316",
   "metadata": {},
   "outputs": [],
   "source": []
  },
  {
   "cell_type": "code",
   "execution_count": null,
   "id": "1770f45e",
   "metadata": {},
   "outputs": [],
   "source": []
  },
  {
   "cell_type": "code",
   "execution_count": null,
   "id": "85a07ef2",
   "metadata": {},
   "outputs": [],
   "source": []
  }
 ],
 "metadata": {
  "kernelspec": {
   "display_name": "Python 3 (ipykernel)",
   "language": "python",
   "name": "python3"
  },
  "language_info": {
   "codemirror_mode": {
    "name": "ipython",
    "version": 3
   },
   "file_extension": ".py",
   "mimetype": "text/x-python",
   "name": "python",
   "nbconvert_exporter": "python",
   "pygments_lexer": "ipython3",
   "version": "3.9.13"
  }
 },
 "nbformat": 4,
 "nbformat_minor": 5
}
