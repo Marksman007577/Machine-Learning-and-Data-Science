{
 "cells": [
  {
   "cell_type": "code",
   "execution_count": 1,
   "id": "9d798c92",
   "metadata": {},
   "outputs": [
    {
     "name": "stdout",
     "output_type": "stream",
     "text": [
      "[ 0.   0.1  0.2  0.3  0.4  0.5  0.6  0.7  0.8  0.9  1.   1.1  1.2  1.3\n",
      "  1.4  1.5  1.6  1.7  1.8  1.9  2.   2.1  2.2  2.3  2.4  2.5  2.6  2.7\n",
      "  2.8  2.9  3.   3.1  3.2  3.3  3.4  3.5  3.6  3.7  3.8  3.9  4.   4.1\n",
      "  4.2  4.3  4.4  4.5  4.6  4.7  4.8  4.9  5.   5.1  5.2  5.3  5.4  5.5\n",
      "  5.6  5.7  5.8  5.9  6.   6.1  6.2  6.3  6.4  6.5  6.6  6.7  6.8  6.9\n",
      "  7.   7.1  7.2  7.3  7.4  7.5  7.6  7.7  7.8  7.9  8.   8.1  8.2  8.3\n",
      "  8.4  8.5  8.6  8.7  8.8  8.9  9.   9.1  9.2  9.3  9.4  9.5  9.6  9.7\n",
      "  9.8  9.9 10. ]\n",
      "[3 5 5 5 4 4 5 3 4 5 4 6 6 3 6 3 5 6 5]\n",
      "19\n",
      "2720\n"
     ]
    }
   ],
   "source": [
    "# TASK: Create a numpy array called myarray which consists of 101 evenly linearly\n",
    "# spaced points between 0 and 10.\n",
    "import numpy as np\n",
    "\n",
    "myarray = np.linspace(0, 10, 101)\n",
    "print(myarray)\n",
    "\n",
    "# TASK: Use numpy to check how many rolls were greater than 2.\n",
    "# For example if dice_rolls=[1,2,3] then the answer is 1.\n",
    "# NOTE: Many different ways to do this! Your final answer should be an integer.\n",
    "dice_rolls = np.array([3, 1, 5, 2, 5, 1, 1, 5, 1, 4, 2, 1, 4, 5, 3, 4, 5, 2, 4, 2, 6, 6, 3, 6, 2, 3, 5, 6, 5])\n",
    "\n",
    "total_rolls_over_two = dice_rolls[dice_rolls > 2]\n",
    "num_arr = np.count_nonzero(total_rolls_over_two)\n",
    "print(total_rolls_over_two)\n",
    "print(num_arr)\n",
    "\n",
    "# TASK: Use numpy to check the total remaining in the account after the series of transactions.\n",
    "# NOTE: Many different ways to do this!\n",
    "account_transactions = np.array([100, -200, 300, -400, 100, 100, -230, 450, 500, 2000])\n",
    "\n",
    "account_total = account_transactions.sum()\n",
    "print(account_total)\n"
   ]
  },
  {
   "cell_type": "code",
   "execution_count": null,
   "id": "3699cc14",
   "metadata": {},
   "outputs": [],
   "source": []
  }
 ],
 "metadata": {
  "kernelspec": {
   "display_name": "Python 3 (ipykernel)",
   "language": "python",
   "name": "python3"
  },
  "language_info": {
   "codemirror_mode": {
    "name": "ipython",
    "version": 3
   },
   "file_extension": ".py",
   "mimetype": "text/x-python",
   "name": "python",
   "nbconvert_exporter": "python",
   "pygments_lexer": "ipython3",
   "version": "3.9.13"
  }
 },
 "nbformat": 4,
 "nbformat_minor": 5
}
