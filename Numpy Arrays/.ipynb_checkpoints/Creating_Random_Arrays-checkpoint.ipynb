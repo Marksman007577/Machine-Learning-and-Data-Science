{
 "cells": [
  {
   "cell_type": "code",
   "execution_count": 10,
   "id": "5720f4c1",
   "metadata": {},
   "outputs": [
    {
     "name": "stdout",
     "output_type": "stream",
     "text": [
      "[0.44583275]\n",
      "[4]\n",
      "[[4 4 9]\n",
      " [6 5 9]\n",
      " [9 4 7]\n",
      " [6 3 9]]\n",
      "[[8 5 6]\n",
      " [8 4 9]\n",
      " [6 6 8]]\n"
     ]
    }
   ],
   "source": [
    "import numpy as np\n",
    "\n",
    "#CREATING RANDOM RAND ARRAYS USING FUNCTIONS\n",
    "random_number =np.random.rand(1)\n",
    "print(random_number)\n",
    "\n",
    "#CREATING RANDOM INTEGERS FOR 1-D ARRAY\n",
    "rand_integer = np.random.randint(2,6,1)\n",
    "print(rand_integer)\n",
    "\n",
    "#CREATING RANDOM INTEGERS FOR N-D ARRAY\n",
    "rand_int = np.random.randint(2,10,(4,3))\n",
    "print(rand_int)\n",
    "\n",
    "#USING SEED TO GENERATE N-D ARRAY MATRIX\n",
    "np.random.seed(42)\n",
    "my_mat = np.random.randint(2,10,(3,3))\n",
    "print(my_mat)"
   ]
  },
  {
   "cell_type": "code",
   "execution_count": null,
   "id": "f9958cc7",
   "metadata": {},
   "outputs": [],
   "source": []
  }
 ],
 "metadata": {
  "kernelspec": {
   "display_name": "Python 3 (ipykernel)",
   "language": "python",
   "name": "python3"
  },
  "language_info": {
   "codemirror_mode": {
    "name": "ipython",
    "version": 3
   },
   "file_extension": ".py",
   "mimetype": "text/x-python",
   "name": "python",
   "nbconvert_exporter": "python",
   "pygments_lexer": "ipython3",
   "version": "3.9.13"
  }
 },
 "nbformat": 4,
 "nbformat_minor": 5
}
