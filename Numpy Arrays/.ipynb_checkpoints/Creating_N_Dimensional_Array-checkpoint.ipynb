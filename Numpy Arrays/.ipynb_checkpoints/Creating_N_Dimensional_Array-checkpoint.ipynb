{
 "cells": [
  {
   "cell_type": "code",
   "execution_count": 1,
   "id": "d4759198",
   "metadata": {},
   "outputs": [],
   "source": [
    "#CREATING AN N-DIMENSIONAL ARRAY\n",
    "import numpy as np\n",
    "\n",
    "#USECASE1:Via a list for a 1-D array\n",
    "my_list = [2,5,7,16,21,33]\n",
    "my_array = np.array(my_list)\n",
    "\n",
    "#USECASE2:Via a list for a N-Dimensional array\n",
    "my_list2 = [[2,5,7,21,33],[67,8,76,43,12],[60,99,53,29,9]]\n",
    "my_array2 = np.array(my_list2)"
   ]
  }
 ],
 "metadata": {
  "kernelspec": {
   "display_name": "Python 3 (ipykernel)",
   "language": "python",
   "name": "python3"
  },
  "language_info": {
   "codemirror_mode": {
    "name": "ipython",
    "version": 3
   },
   "file_extension": ".py",
   "mimetype": "text/x-python",
   "name": "python",
   "nbconvert_exporter": "python",
   "pygments_lexer": "ipython3",
   "version": "3.9.13"
  }
 },
 "nbformat": 4,
 "nbformat_minor": 5
}
