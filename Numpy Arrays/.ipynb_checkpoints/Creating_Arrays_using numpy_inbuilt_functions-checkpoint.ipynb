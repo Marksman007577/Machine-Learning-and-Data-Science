{
 "cells": [
  {
   "cell_type": "code",
   "execution_count": null,
   "id": "3d5bda38",
   "metadata": {},
   "outputs": [],
   "source": [
    "#USEFUL numpy FUNCTIONS\n",
    "import numpy as np\n",
    "\n",
    "#CREATING NUMPY ARRRAY USING arange()1-D ARRAY\n",
    "my_arr = np.arange(2,20) # creates an array in the range of 2-20\n",
    "print(my_arr)\n",
    "\n",
    "print(\" \")\n",
    "\n",
    "#CREATING NUMPY ARRRAY USING arange()2-D OR MORE ARRAY\n",
    "my_arr2 = np.arange(2,20) # creates an array in the range of 2-20 with a 6X3 shape\n",
    "array_reshaped = my_arr2.reshape(6,3)\n",
    "print(array_reshaped)\n",
    "\n",
    "#CREATING ZERO FOR A 1-D ARRAY\n",
    "one_D_zeros = np.zeros(5)\n",
    "print(one_D_zeros)\n",
    "\n",
    "#CREATING ZERO FOR A N-DIMENSIONAL ARRAY\n",
    "N_D_zeros = np.zeros((5,5))\n",
    "print(N_D_zeros)\n",
    "\n",
    "#CREATING ONES FOR A 1-D ARRAY\n",
    "one_D_ones = np.ones(5)\n",
    "print(one_D_ones)\n",
    "\n",
    "#CREATING ONES FOR A N-DIMENSIONAL ARRAY\n",
    "N_D_ones = np.ones((5,5))\n",
    "print(N_D_ones)\n",
    "\n",
    "#CREATING IDENTITY MATRIX ARRAY\n",
    "N_ident = np.eye(5)\n",
    "print(N_ident)\n",
    "\n",
    "#CREATING LINEARLY DISTRIBUTED ARRAY\n",
    "new_arr = np.linspace(2,6,12)\n",
    "print(new_arr)"
   ]
  }
 ],
 "metadata": {
  "kernelspec": {
   "display_name": "Python 3 (ipykernel)",
   "language": "python",
   "name": "python3"
  },
  "language_info": {
   "codemirror_mode": {
    "name": "ipython",
    "version": 3
   },
   "file_extension": ".py",
   "mimetype": "text/x-python",
   "name": "python",
   "nbconvert_exporter": "python",
   "pygments_lexer": "ipython3",
   "version": "3.9.13"
  }
 },
 "nbformat": 4,
 "nbformat_minor": 5
}
