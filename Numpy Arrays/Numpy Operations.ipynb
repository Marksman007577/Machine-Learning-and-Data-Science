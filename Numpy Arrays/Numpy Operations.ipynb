{
 "cells": [
  {
   "cell_type": "code",
   "execution_count": 24,
   "id": "663563cd",
   "metadata": {},
   "outputs": [],
   "source": [
    "import numpy as np\n",
    "\n",
    "#ARITHMETIC SUMMATION BETWEEN ARRAY\n",
    "arr_2d = np.array([[5,10,15],[20,25,30],[35,40,45]])\n",
    "arr_sum = arr_2d + 5\n",
    "arr_sum_self = arr_2d + arr_2d\n",
    "\n",
    "#ARITHMETIC SUBTRACTION BETWEEN ARRAY\n",
    "arr_diff = arr_2d - 2\n",
    "\n",
    "#ARITHMETIC DIVISION BETWEEN ARRAY\n",
    "arr_div_self = arr_2d / arr_2d\n",
    "\n",
    "#ARITHMETIC MULTIPLICATION BETWEEN ARRAY\n",
    "arr_pro_self = arr_2d * arr_2d\n",
    "\n",
    "#SQUARE ROOT ON ARRAY\n",
    "arr_sqrt = np.sqrt(arr_2d)\n",
    "\n",
    "#TRIGONOMETRIC OPERATIONS ON ARRAY\n",
    "arr_sine = np.sin(arr_2d)\n",
    "arr_cosine = np.cos(arr_2d)\n",
    "arr_tan = np.tan(arr_2d)\n",
    "arr_log = np.log(arr_2d)\n",
    "\n",
    "#SUMMING ALL ELEMENTS IN AN ARRAY\n",
    "arr_sum_total = arr_2d.sum()\n",
    "\n",
    "#MEAN VALUE OF ALL ELEMENTS IN AN ARRAY\n",
    "arr_mean_value = arr_2d.mean()\n",
    "\n",
    "#MAX OR MIN VALUE IN AN ARRAY\n",
    "arr_max_value = arr_2d.max()\n",
    "arr_min_value = arr_2d.min()\n",
    "\n",
    "#VARIANCE AND STANDARD DEVIATION OF AN ARRAY\n",
    "arr_var = arr_2d.var()\n",
    "arr_sd = arr_2d.std()\n",
    "\n",
    "#SUMMATION OF A 2-D ARRAY(MATRIX) ACROSS ROWS OR COLUMN\n",
    "arr_sum_row = arr_2d.sum(axis=0) #axis = 0 means row. recall that a matrix is rxc where row is index 0\n",
    "arr_sum_col = arr_2d.sum(axis=1) #axis = 1 means column. recall that a matrix is rxc where column is index 1"
   ]
  }
 ],
 "metadata": {
  "kernelspec": {
   "display_name": "Python 3 (ipykernel)",
   "language": "python",
   "name": "python3"
  },
  "language_info": {
   "codemirror_mode": {
    "name": "ipython",
    "version": 3
   },
   "file_extension": ".py",
   "mimetype": "text/x-python",
   "name": "python",
   "nbconvert_exporter": "python",
   "pygments_lexer": "ipython3",
   "version": "3.9.13"
  }
 },
 "nbformat": 4,
 "nbformat_minor": 5
}
