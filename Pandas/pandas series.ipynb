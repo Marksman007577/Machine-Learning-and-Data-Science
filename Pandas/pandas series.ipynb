{
 "cells": [
  {
   "cell_type": "code",
   "execution_count": 1,
   "id": "0cf5c9a7",
   "metadata": {},
   "outputs": [
    {
     "name": "stdout",
     "output_type": "stream",
     "text": [
      "USA       1776\n",
      "Canada    1867\n",
      "Mexico    1821\n",
      "dtype: int64\n",
      "Sam       5\n",
      "Frank    10\n",
      "Spike     7\n",
      "dtype: int64\n",
      "Brazil    100.0\n",
      "China     950.0\n",
      "India     410.0\n",
      "Japan      80.0\n",
      "USA       510.0\n",
      "dtype: float64\n"
     ]
    }
   ],
   "source": [
    "import numpy as np\n",
    "import pandas as pd\n",
    "# pandas series from a list\n",
    "my_index = [\"USA\", \"Canada\", \"Mexico\"]\n",
    "my_data = [1776, 1867, 1821]\n",
    "\n",
    "my_ser = pd.Series(data=my_data, index=my_index)\n",
    "\n",
    "print(my_ser)\n",
    "\n",
    "#pandas series from a dictionary\n",
    "ages = {\"Sam\": 5, \"Frank\": 10, \"Spike\": 7}\n",
    "my_serr = pd.Series(ages)\n",
    "print(my_serr)\n",
    "\n",
    "#Adding two series in pandas\n",
    "Q1 = {'Japan': 80, 'China': 450, 'India': 200, 'USA': 250}\n",
    "Q2 = {'Brazil': 100, 'China': 500, 'India': 210, 'USA': 260}\n",
    "\n",
    "sales_Q1 = pd.Series(Q1)\n",
    "sales_Q2 = pd.Series(Q2)\n",
    "\n",
    "total_sale = sales_Q1.add(sales_Q2, fill_value=0)\n",
    "print(total_sale)"
   ]
  },
  {
   "cell_type": "code",
   "execution_count": null,
   "id": "a5abe331",
   "metadata": {},
   "outputs": [],
   "source": []
  }
 ],
 "metadata": {
  "kernelspec": {
   "display_name": "Python 3 (ipykernel)",
   "language": "python",
   "name": "python3"
  },
  "language_info": {
   "codemirror_mode": {
    "name": "ipython",
    "version": 3
   },
   "file_extension": ".py",
   "mimetype": "text/x-python",
   "name": "python",
   "nbconvert_exporter": "python",
   "pygments_lexer": "ipython3",
   "version": "3.9.13"
  }
 },
 "nbformat": 4,
 "nbformat_minor": 5
}
