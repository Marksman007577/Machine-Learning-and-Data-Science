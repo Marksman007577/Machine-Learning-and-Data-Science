{
 "cells": [
  {
   "cell_type": "code",
   "execution_count": 28,
   "id": "7368e4a0",
   "metadata": {},
   "outputs": [],
   "source": [
    "import numpy as np\n",
    "import pandas as pd\n",
    "\n",
    "# Imagine extracting your data from two seperate sources\n",
    "# This can be done via concatenation\n",
    "\n",
    "data_one = {'A':['A0','A1','A2','A3'],'B':['B0','B1','B2','B3']}\n",
    "data_two = {'C':['C0','C1','C2','C3'],'D':['D0','D1','D2','D3']}\n",
    "\n",
    "ind1 = ['AB0','AB1','AB2','AB3']\n",
    "ind2 = ['CD0','CD1','CD2','CD3']\n",
    "\n",
    "one = pd.DataFrame(data=data_one,index=ind1)\n",
    "two = pd.DataFrame(data=data_two,index=ind2)\n",
    "\n",
    "\n",
    "# To concanate along columns (so far their index are same)\n",
    "conc_col = pd.concat([one,two],axis=1)\n",
    "conc_row = pd.concat([one,two],axis=0)\n",
    "\n",
    "# Merging similar columns into a single row\n",
    "two.columns = one.columns\n",
    "merge_similar_col = pd.concat([one,two],axis=0)\n",
    "\n",
    "\n",
    "# Combining Dataframe via inner merge\n",
    "# Returns info on data common to both tables\n",
    "# N:B often times, data are not in right format and need merging before concatenating\n",
    "# There are three 3 types of merge: inner;outer;left or right\n",
    "\n",
    "data_row = [1,2]\n",
    "data_col = ['Name','Login ID']\n",
    "raw_data = [['Andrew',2],['Bob',4]]\n",
    "data_fr = pd.DataFrame(data=raw_data,index=data_row,columns=data_col)\n",
    "\n"
   ]
  }
 ],
 "metadata": {
  "kernelspec": {
   "display_name": "Python 3 (ipykernel)",
   "language": "python",
   "name": "python3"
  },
  "language_info": {
   "codemirror_mode": {
    "name": "ipython",
    "version": 3
   },
   "file_extension": ".py",
   "mimetype": "text/x-python",
   "name": "python",
   "nbconvert_exporter": "python",
   "pygments_lexer": "ipython3",
   "version": "3.9.13"
  }
 },
 "nbformat": 4,
 "nbformat_minor": 5
}
