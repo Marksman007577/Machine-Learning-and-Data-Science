{
 "cells": [
  {
   "cell_type": "code",
   "execution_count": 1,
   "id": "297e2348",
   "metadata": {},
   "outputs": [],
   "source": [
    "# Missing Data in dataframe\n",
    "\n",
    "import numpy as np\n",
    "import pandas as pd\n",
    "\n",
    "df = pd.read_csv(\"C:\\\\Users\\\\User\\\\Desktop\\\\Machine Learning and Data Science\\\\UNZIP_FOR_NOTEBOOKS_FINAL\\\\DATA\\\\movie_scores.csv\")\n",
    "\n",
    "# Filling in missing data\n",
    "is_null = df.isnull()                #returns a boolean of all data cells that are empty\n",
    "not_null = df.notnull()              #returns a boolean of all data cells that are with data\n",
    "\n",
    "# For a single column\n",
    "new_data_set_notnull = df[df['pre_movie_score'].notnull()] # Retruns the column \"pre_movie_score\" with cells that has data in them\n",
    "new_data_set_isnull = df[df['pre_movie_score'].isnull()] # Retruns the column \"pre_movie_score\" with cells that has no data in them\n",
    "\n",
    "new_filled_data = df['pre_movie_score'].fillna(0) # Fills out all the cells in pre_movie_score without a data with zero\n",
    "df['pre_movie_score'] = df['pre_movie_score'].fillna(0) # This would make the change permanent on the dataframe\n",
    "\n",
    "# For multiple columns\n",
    "new_data_set_1 = df[(df['pre_movie_score'].notnull()) & (df['first_name'].notnull()) & (df['post_movie_score'].notnull())] # Returns the column \"pre_movie_score\" & \"first_name\" with cells that satisfy the given conditions\n",
    "new_data_set_2 = df[(df['pre_movie_score'].isnull()) & (df['first_name'].notnull())] # Returns the column \"pre_movie_score\" & \"first_name\" with cells that satisfy the given conditions\n",
    "\n",
    "df['post_movie_score'] = df['post_movie_score'].fillna(0) # Fills out all the cells in post_movie_score without a data with zero\n",
    "\n",
    "# Dropping missing data\n",
    "df.dropna(axis=1) #drop columns with NaN\n",
    "df.dropna(axis=0) #drop rows with NaN\n",
    "df.dropna(subset= ['last_name']) # drops the row where a NaN was spoted on the defined subset column. e.g last name"
   ]
  }
 ],
 "metadata": {
  "kernelspec": {
   "display_name": "Python 3 (ipykernel)",
   "language": "python",
   "name": "python3"
  },
  "language_info": {
   "codemirror_mode": {
    "name": "ipython",
    "version": 3
   },
   "file_extension": ".py",
   "mimetype": "text/x-python",
   "name": "python",
   "nbconvert_exporter": "python",
   "pygments_lexer": "ipython3",
   "version": "3.9.13"
  }
 },
 "nbformat": 4,
 "nbformat_minor": 5
}
