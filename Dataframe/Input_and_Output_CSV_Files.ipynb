{
 "cells": [
  {
   "cell_type": "code",
   "execution_count": 10,
   "id": "1d300a0a",
   "metadata": {},
   "outputs": [],
   "source": [
    "# pwd # to show your current working directory\n",
    "# ls # Gives you a list of all the files contained in your current directory. Used for jupyter notebook\n",
    "\n",
    "# import os\n",
    "# os.getcwd() # used in IDE for the same purpose as above\n",
    "\n",
    "import pandas as pd\n",
    "\n",
    "# Read-in a csv file\n",
    "df = pd.read_csv(\"C:\\\\Users\\\\User\\\\Desktop\\\\Machine Learning and Data Science\\\\UNZIP_FOR_NOTEBOOKS_FINAL\\DATA\\\\example.csv\")\n",
    "\n",
    "# if we want to define the header of the read file\n",
    "# In this case, we do not want a defined header\n",
    "df_with_header = pd.read_csv(\"C:\\\\Users\\\\User\\\\Desktop\\\\Machine Learning and Data Science\\\\UNZIP_FOR_NOTEBOOKS_FINAL\\DATA\\\\example.csv\", header=None)\n",
    "\n",
    "# To set any column as our row index\n",
    "df_row_defined = pd.read_csv(\"C:\\\\Users\\\\User\\\\Desktop\\\\Machine Learning and Data Science\\\\UNZIP_FOR_NOTEBOOKS_FINAL\\DATA\\\\example.csv\", index_col=0)\n",
    "# here we want to use column index 0 as our row\n",
    "\n",
    "# To save the new document\n",
    "new_doc = df_row_defined.to_csv(\"C:\\\\Users\\\\User\\\\Desktop\\\\Machine Learning and Data Science\\\\UNZIP_FOR_NOTEBOOKS_FINAL\\DATA\\\\new_doc.csv\", index=True)\n",
    "# We want to leave the index the way we modified it, thus we set index to True"
   ]
  },
  {
   "cell_type": "code",
   "execution_count": null,
   "id": "de90eacd",
   "metadata": {},
   "outputs": [],
   "source": []
  }
 ],
 "metadata": {
  "kernelspec": {
   "display_name": "Python 3 (ipykernel)",
   "language": "python",
   "name": "python3"
  },
  "language_info": {
   "codemirror_mode": {
    "name": "ipython",
    "version": 3
   },
   "file_extension": ".py",
   "mimetype": "text/x-python",
   "name": "python",
   "nbconvert_exporter": "python",
   "pygments_lexer": "ipython3",
   "version": "3.9.15"
  }
 },
 "nbformat": 4,
 "nbformat_minor": 5
}
