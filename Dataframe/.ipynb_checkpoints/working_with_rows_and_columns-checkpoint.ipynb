{
 "cells": [
  {
   "cell_type": "code",
   "execution_count": 64,
   "id": "a433d318",
   "metadata": {
    "scrolled": true
   },
   "outputs": [
    {
     "name": "stderr",
     "output_type": "stream",
     "text": [
      "C:\\Users\\User\\AppData\\Local\\Temp\\ipykernel_4900\\582776890.py:48: FutureWarning: The frame.append method is deprecated and will be removed from pandas in a future version. Use pandas.concat instead.\n",
      "  new_df = new_df.append(new_row)\n"
     ]
    }
   ],
   "source": [
    "import numpy as np\n",
    "import pandas as pd\n",
    "\n",
    "# creating a dataframe reading from a CSV file\n",
    "df = pd.read_csv(\"C:\\\\Users\\\\User\\\\Desktop\\\\Machine Learning and Data Science\\\\UNZIP_FOR_NOTEBOOKS_FINAL\\DATA\\\\tips.csv\")\n",
    "\n",
    "# Working with columns\n",
    "\n",
    "# When interested in a single column data\n",
    "# Example. from the read file, we want to explore the total bill column\n",
    "single_column = df[\"total_bill\"]\n",
    "\n",
    "# When interested in a multiple column data\n",
    "# Example. from the read file, we want to explore the total bill, and tip columns\n",
    "multiple_columns = [\"Payer Name\",\"total_bill\", \"tip\"]\n",
    "df[multiple_columns]\n",
    "\n",
    "# New column creation for a new calculation while performing operations within/amongst different column\n",
    "# case 1: creating a new column called tip percentage values as columns and rounding them up to a number of decimal places\n",
    "df[\"tip_%\"] = np.round(100 * df[\"tip\"]/df[\"total_bill\"],2)\n",
    "\n",
    "# Dropping a column from the dataframe\n",
    "drop_column = df.drop(\"tip_%\", axis=1)\n",
    "\n",
    "\n",
    "# Working with rows\n",
    "# setting one of the columns as the index rows\n",
    "def_inx = df.index \n",
    "new_df = df.set_index(\"Payer Name\")\n",
    "\n",
    "# To reset the data frame\n",
    "reset_dataframe = new_df.reset_index()\n",
    "\n",
    "# When interested in a single row data\n",
    "single_row_info = new_df.loc['Travis Walters'] # via index label name\n",
    "single_row_info1 = new_df.iloc[212] # via index number\n",
    "\n",
    "# When interested in a single row data\n",
    "multiple_row_info = new_df.loc[['Travis Walters','Christy Cunningham','Tonya Carter']] # via index label name\n",
    "multiple_row_info1 = new_df.iloc[0:21] # via index number\n",
    "\n",
    "# When interested in a dropping a row data\n",
    "drop_row_info = new_df.drop('Travis Walters', axis=0) # via index label name\n",
    "drop_row_info1 = new_df.iloc[0:2] # via index number\n",
    "\n",
    "# New row creation. N.B: new row must match with the exisitng row dimension\n",
    "new_row = new_df.iloc[225]\n",
    "new_df = new_df.append(new_row)"
   ]
  }
 ],
 "metadata": {
  "kernelspec": {
   "display_name": "Python 3 (ipykernel)",
   "language": "python",
   "name": "python3"
  },
  "language_info": {
   "codemirror_mode": {
    "name": "ipython",
    "version": 3
   },
   "file_extension": ".py",
   "mimetype": "text/x-python",
   "name": "python",
   "nbconvert_exporter": "python",
   "pygments_lexer": "ipython3",
   "version": "3.9.13"
  }
 },
 "nbformat": 4,
 "nbformat_minor": 5
}
