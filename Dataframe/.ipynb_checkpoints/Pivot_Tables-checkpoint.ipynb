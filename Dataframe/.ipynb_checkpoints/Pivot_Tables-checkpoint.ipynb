{
 "cells": [
  {
   "cell_type": "code",
   "execution_count": 11,
   "id": "1d300a0a",
   "metadata": {},
   "outputs": [],
   "source": [
    "import pandas as pd\n",
    "\n",
    "df = pd.read_csv(\"C:\\\\Users\\\\User\\\\Desktop\\\\Machine Learning and Data Science\\\\UNZIP_FOR_NOTEBOOKS_FINAL\\\\DATA\\\\Telco-Customer-Churn.csv\")\n",
    "\n",
    "payment_method = df[['customerID','gender', 'PaymentMethod']]\n",
    "\n",
    "pivot_payment_method = pd.pivot(data=payment_method, index='customerID',columns='gender',values='PaymentMethod')"
   ]
  }
 ],
 "metadata": {
  "kernelspec": {
   "display_name": "Python 3 (ipykernel)",
   "language": "python",
   "name": "python3"
  },
  "language_info": {
   "codemirror_mode": {
    "name": "ipython",
    "version": 3
   },
   "file_extension": ".py",
   "mimetype": "text/x-python",
   "name": "python",
   "nbconvert_exporter": "python",
   "pygments_lexer": "ipython3",
   "version": "3.9.15"
  }
 },
 "nbformat": 4,
 "nbformat_minor": 5
}
