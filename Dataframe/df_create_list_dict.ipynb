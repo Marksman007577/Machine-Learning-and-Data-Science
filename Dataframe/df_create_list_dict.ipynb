{
 "cells": [
  {
   "cell_type": "code",
   "execution_count": 1,
   "id": "a54d07a2",
   "metadata": {},
   "outputs": [],
   "source": [
    "import numpy as np\n",
    "import pandas as pd\n",
    "\n",
    "#Generating a Dataframe manually \n",
    "np.random.seed(42)\n",
    "my_data = np.random.randint(0,100,(4,3))\n",
    "\n",
    "my_row = ['USA','CAN','MEX','BRA']\n",
    "my_col = ['JAN','FEB','MAR']\n",
    "\n",
    "df = pd.DataFrame(data=my_data, index=my_row, columns=my_col)\n",
    "\n",
    "information = np.array([[1776, 450, 996],[1867,83,320],[1821,129,123],[1945,350,290]])\n",
    "my_row1 = ['USA','CAN','MEX','BRA']\n",
    "my_col1 = ['Founded','POP(Mill)','GDP(Bill)']\n",
    "\n",
    "df1 = pd.DataFrame(data=information, index=my_row1, columns=my_col1)"
   ]
  }
 ],
 "metadata": {
  "kernelspec": {
   "display_name": "Python 3 (ipykernel)",
   "language": "python",
   "name": "python3"
  },
  "language_info": {
   "codemirror_mode": {
    "name": "ipython",
    "version": 3
   },
   "file_extension": ".py",
   "mimetype": "text/x-python",
   "name": "python",
   "nbconvert_exporter": "python",
   "pygments_lexer": "ipython3",
   "version": "3.9.13"
  }
 },
 "nbformat": 4,
 "nbformat_minor": 5
}
