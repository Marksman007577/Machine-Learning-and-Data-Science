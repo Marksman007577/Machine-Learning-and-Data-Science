{
 "cells": [
  {
   "cell_type": "code",
   "execution_count": null,
   "id": "7e194381",
   "metadata": {},
   "outputs": [],
   "source": [
    "import numpy as np\n",
    "import pandas as pd\n",
    "\n",
    "df = pd.read_csv(\"C:\\\\Users\\\\User\\\\Desktop\\\\Machine Learning and Data Science\\\\UNZIP_FOR_NOTEBOOKS_FINAL\\\\DATA\\\\mpg.csv\")\n",
    "\n",
    "# Multi level indexing 1 (Working with outer indexx)\n",
    "year_cyl = df.groupby(['model_year','cylinders']).mean()\n",
    "index_names = year_cyl.index.names #list the names of the indexes\n",
    "index_levels = year_cyl.index.levels # returns the list of all level\n",
    "out_loc1 = year_cyl.loc[70] # work with the one outermost index\n",
    "out_loc2 = year_cyl.loc[[70,82]] # work with the two outermost indexes\n",
    "out_loc3 = year_cyl.loc[(70,4)] # Returns the data of the stated outer index and the inner sub index\n",
    "\n",
    "\n",
    "# Multi level indexing 2 (Working with inner index)\n",
    "inner_loc1 = year_cyl.xs(key=70,level='model_year') # sets the base index as the key, then work explicitly with the level model year as index\n",
    "inner_loc2 = year_cyl.xs(key=4,level='cylinders') # sets the base index as the key, then work explicitly with the level as index\n",
    "\n",
    "\n",
    "# Multi inner indexing 2 (Working with inner inner index)\n",
    "#You must filter first before aggregating\n",
    "filtered_data = df[df['cylinders'].isin([6,8])]\n",
    "filtered_data_groupby = filtered_data.groupby(['model_year','cylinders']).mean() #Here model year and cylinder are two levels of inner inner index\n",
    "\n",
    "# Swapping and Sorting Multi level index\n",
    "swap_1 = year_cyl.sort_index(level='model_year', ascending=False) #this will sorts levels# Best to sort using outmose level\n",
    "\n",
    "# Specifying a set of aggregate function for a set of aggregate columns\n",
    "all_columns = df.agg(['std','mean']) # returns the aggregated mean and std for all columns\n",
    "selected_columns = df.agg({'mpg':['std','mean'], 'weight':['std','mean']}) # returns the aggregated mean and std for columns of interests"
   ]
  }
 ],
 "metadata": {
  "kernelspec": {
   "display_name": "Python 3 (ipykernel)",
   "language": "python",
   "name": "python3"
  },
  "language_info": {
   "codemirror_mode": {
    "name": "ipython",
    "version": 3
   },
   "file_extension": ".py",
   "mimetype": "text/x-python",
   "name": "python",
   "nbconvert_exporter": "python",
   "pygments_lexer": "ipython3",
   "version": "3.9.13"
  }
 },
 "nbformat": 4,
 "nbformat_minor": 5
}
