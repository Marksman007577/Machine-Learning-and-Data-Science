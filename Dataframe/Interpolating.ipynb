{
 "cells": [
  {
   "cell_type": "code",
   "execution_count": 4,
   "id": "ff347342",
   "metadata": {},
   "outputs": [
    {
     "data": {
      "text/plain": [
       "First class       100.0\n",
       "Business class     75.0\n",
       "Economy-plus       50.0\n",
       "Economy            30.0\n",
       "dtype: float64"
      ]
     },
     "execution_count": 4,
     "metadata": {},
     "output_type": "execute_result"
    }
   ],
   "source": [
    "import pandas as pd\n",
    "import numpy as np\n",
    "\n",
    "# Used to interpolate a number in a missing series. More like trying to guess what the missing value would be based\n",
    "# on the available data\n",
    "\n",
    "airline_ticket = {'First class':100, 'Business class':np.nan, 'Economy-plus':50, 'Economy':30}\n",
    "ser = pd.Series(airline_ticket)\n",
    "ser.interpolate()"
   ]
  },
  {
   "cell_type": "code",
   "execution_count": null,
   "id": "1dc5ff84",
   "metadata": {},
   "outputs": [],
   "source": [
    "ser"
   ]
  }
 ],
 "metadata": {
  "kernelspec": {
   "display_name": "Python 3 (ipykernel)",
   "language": "python",
   "name": "python3"
  },
  "language_info": {
   "codemirror_mode": {
    "name": "ipython",
    "version": 3
   },
   "file_extension": ".py",
   "mimetype": "text/x-python",
   "name": "python",
   "nbconvert_exporter": "python",
   "pygments_lexer": "ipython3",
   "version": "3.9.13"
  }
 },
 "nbformat": 4,
 "nbformat_minor": 5
}
