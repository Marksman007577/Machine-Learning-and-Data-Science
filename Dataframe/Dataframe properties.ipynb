{
 "cells": [
  {
   "cell_type": "code",
   "execution_count": null,
   "id": "6d668fb0",
   "metadata": {},
   "outputs": [],
   "source": [
    "import numpy as np\n",
    "import pandas as pd\n",
    "\n",
    "# creating a dataframe reading from a CSV file\n",
    "df = pd.read_csv(\"C:\\\\Users\\\\User\\\\Desktop\\\\Machine Learning and Data Science\\\\UNZIP_FOR_NOTEBOOKS_FINAL\\DATA\\\\tips.csv\")\n",
    "\n",
    "#Getting the list of the read data columns in the dataframe\n",
    "df.columns\n",
    "\n",
    "#Getting the list of the read data rows a.k.a index values in the dataframe\n",
    "df.index\n",
    "\n",
    "#Getting a selected number of rows in the dataframe starting from beginning\n",
    "df.head(7) # 7 is the number of rows you want to view\n",
    "\n",
    "#Getting a selected number of rows in the dataframe starting from the end\n",
    "df.tail(7)\n",
    "\n",
    "#Getting a selected number of statistical information from the data in the dataframe\n",
    "df.describe()"
   ]
  }
 ],
 "metadata": {
  "kernelspec": {
   "display_name": "Python 3 (ipykernel)",
   "language": "python",
   "name": "python3"
  },
  "language_info": {
   "codemirror_mode": {
    "name": "ipython",
    "version": 3
   },
   "file_extension": ".py",
   "mimetype": "text/x-python",
   "name": "python",
   "nbconvert_exporter": "python",
   "pygments_lexer": "ipython3",
   "version": "3.9.13"
  }
 },
 "nbformat": 4,
 "nbformat_minor": 5
}
