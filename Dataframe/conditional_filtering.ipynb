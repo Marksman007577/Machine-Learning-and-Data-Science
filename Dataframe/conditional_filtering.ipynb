{
 "cells": [
  {
   "cell_type": "code",
   "execution_count": 20,
   "id": "ba8f8b0d",
   "metadata": {},
   "outputs": [],
   "source": [
    "import numpy as np\n",
    "import pandas as pd\n",
    "\n",
    "# Reading a csv file database\n",
    "df = pd.read_csv(\"C:\\\\Users\\\\User\\\\Desktop\\\\Machine Learning and Data Science\\\\UNZIP_FOR_NOTEBOOKS_FINAL\\DATA\\\\tips.csv\")\n",
    "\n",
    "# Making a certain column the reference index\n",
    "new_df = df.set_index(\"Payer Name\")\n",
    "\n",
    "# Conditional filtering types \n",
    "# Filtering by single condition\n",
    "clients_bill_greater_17 = new_df[new_df['total_bill'] > 17]\n",
    "\n",
    "# Filtering by multiple conditions using AND (&) or OR (|)\n",
    "condition_1 = new_df['total_bill'] > 17\n",
    "condition_2 = new_df['sex'] == 'Female'\n",
    "\n",
    "filtered_mul_df = new_df[(condition_1) & (condition_2)]\n",
    "\n",
    "# Filtering by list of options\n",
    "filtered_list_df  = new_df[(new_df['total_bill']> 17) & (new_df['sex'] == 'Male') & (new_df['size']>= 2)]"
   ]
  }
 ],
 "metadata": {
  "kernelspec": {
   "display_name": "Python 3 (ipykernel)",
   "language": "python",
   "name": "python3"
  },
  "language_info": {
   "codemirror_mode": {
    "name": "ipython",
    "version": 3
   },
   "file_extension": ".py",
   "mimetype": "text/x-python",
   "name": "python",
   "nbconvert_exporter": "python",
   "pygments_lexer": "ipython3",
   "version": "3.9.13"
  }
 },
 "nbformat": 4,
 "nbformat_minor": 5
}
