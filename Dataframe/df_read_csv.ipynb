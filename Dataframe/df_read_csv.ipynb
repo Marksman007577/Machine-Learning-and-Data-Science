{
 "cells": [
  {
   "cell_type": "code",
   "execution_count": 1,
   "id": "2594aa05",
   "metadata": {},
   "outputs": [
    {
     "name": "stdout",
     "output_type": "stream",
     "text": [
      "     total_bill   tip     sex smoker   day    time  size  price_per_person  \\\n",
      "0         16.99  1.01  Female     No   Sun  Dinner     2              8.49   \n",
      "1         10.34  1.66    Male     No   Sun  Dinner     3              3.45   \n",
      "2         21.01  3.50    Male     No   Sun  Dinner     3              7.00   \n",
      "3         23.68  3.31    Male     No   Sun  Dinner     2             11.84   \n",
      "4         24.59  3.61  Female     No   Sun  Dinner     4              6.15   \n",
      "..          ...   ...     ...    ...   ...     ...   ...               ...   \n",
      "239       29.03  5.92    Male     No   Sat  Dinner     3              9.68   \n",
      "240       27.18  2.00  Female    Yes   Sat  Dinner     2             13.59   \n",
      "241       22.67  2.00    Male    Yes   Sat  Dinner     2             11.34   \n",
      "242       17.82  1.75    Male     No   Sat  Dinner     2              8.91   \n",
      "243       18.78  3.00  Female     No  Thur  Dinner     2              9.39   \n",
      "\n",
      "             Payer Name         CC Number Payment ID  \n",
      "0    Christy Cunningham  3560325168603410    Sun2959  \n",
      "1        Douglas Tucker  4478071379779230    Sun4608  \n",
      "2        Travis Walters  6011812112971322    Sun4458  \n",
      "3      Nathaniel Harris  4676137647685994    Sun5260  \n",
      "4          Tonya Carter  4832732618637221    Sun2251  \n",
      "..                  ...               ...        ...  \n",
      "239       Michael Avila  5296068606052842    Sat2657  \n",
      "240      Monica Sanders  3506806155565404    Sat1766  \n",
      "241          Keith Wong  6011891618747196    Sat3880  \n",
      "242        Dennis Dixon     4375220550950      Sat17  \n",
      "243     Michelle Hardin  3511451626698139    Thur672  \n",
      "\n",
      "[244 rows x 11 columns]\n"
     ]
    }
   ],
   "source": [
    "# creating a dataframe reading from a CSV file\n",
    "import numpy as np\n",
    "import pandas as pd\n",
    "\n",
    "df = pd.read_csv(\"C:\\\\Users\\\\User\\\\Desktop\\\\Machine Learning and Data Science\\\\UNZIP_FOR_NOTEBOOKS_FINAL\\DATA\\\\tips.csv\")\n",
    "print(df)\n"
   ]
  },
  {
   "cell_type": "code",
   "execution_count": null,
   "id": "b9bf5cb1",
   "metadata": {},
   "outputs": [],
   "source": []
  }
 ],
 "metadata": {
  "kernelspec": {
   "display_name": "Python 3 (ipykernel)",
   "language": "python",
   "name": "python3"
  },
  "language_info": {
   "codemirror_mode": {
    "name": "ipython",
    "version": 3
   },
   "file_extension": ".py",
   "mimetype": "text/x-python",
   "name": "python",
   "nbconvert_exporter": "python",
   "pygments_lexer": "ipython3",
   "version": "3.9.13"
  }
 },
 "nbformat": 4,
 "nbformat_minor": 5
}
