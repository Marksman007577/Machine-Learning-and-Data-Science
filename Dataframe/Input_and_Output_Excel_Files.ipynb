{
 "cells": [
  {
   "cell_type": "code",
   "execution_count": 17,
   "id": "1d300a0a",
   "metadata": {},
   "outputs": [],
   "source": [
    "import pandas as pd\n",
    "\n",
    "df = pd.read_excel(\"C:\\\\Users\\\\User\\\\Desktop\\\\Machine Learning and Data Science\\\\UNZIP_FOR_NOTEBOOKS_FINAL\\\\Homeday.xlsx\", sheet_name=\"Daten\")\n",
    "\n",
    "\n",
    "# Assuming you have an excel file with large data with multiple sheets and do not know all by name\n",
    "# we can use pandals excel in-built function. I implement it with a function call\n",
    "# This way, we see all the sheet names\n",
    "\n",
    "def num_of_sheet(file_path):\n",
    "    wb = []\n",
    "    file = pd.ExcelFile(\"C:\\\\Users\\\\User\\\\Desktop\\\\Machine Learning and Data Science\\\\UNZIP_FOR_NOTEBOOKS_FINAL\\\\Homeday.xlsx\")\n",
    "    result = file.sheet_names\n",
    "    wb.append(result)\n",
    "    return wb\n",
    "\n",
    "\n",
    "# To write to an excel\n",
    "\n",
    "new_df = df.to_excel(\"C:\\\\Users\\\\User\\\\Desktop\\\\Machine Learning and Data Science\\\\UNZIP_FOR_NOTEBOOKS_FINAL\\\\New_Homeday.xlsx\", sheet_name=\"Daten\",index=True)"
   ]
  }
 ],
 "metadata": {
  "kernelspec": {
   "display_name": "Python 3 (ipykernel)",
   "language": "python",
   "name": "python3"
  },
  "language_info": {
   "codemirror_mode": {
    "name": "ipython",
    "version": 3
   },
   "file_extension": ".py",
   "mimetype": "text/x-python",
   "name": "python",
   "nbconvert_exporter": "python",
   "pygments_lexer": "ipython3",
   "version": "3.9.15"
  }
 },
 "nbformat": 4,
 "nbformat_minor": 5
}
