{
 "cells": [
  {
   "cell_type": "code",
   "execution_count": 13,
   "id": "71284f0c",
   "metadata": {},
   "outputs": [],
   "source": [
    "import numpy as np\n",
    "import pandas as pd\n",
    "\n",
    "email = 'johndoe@outlook.com'\n",
    "mail_split = email.split('@')\n",
    "\n",
    "# Some text methods in pandas\n",
    "my_friends = pd.Series(['andrew','bobo','clair','david','5'])\n",
    "my_friends_upper = my_friends.str.upper() # returns the uppercase of all item in the list\n",
    "my_friends_initial = my_friends.str.title() # returns the initial of all item in the list\n",
    "my_friends_isdigit = my_friends.str.isdigit() # returns a boolean of truth\n",
    "\n",
    "# Split, Grab, and Expand into a dataframe\n",
    "tech_finance = ['GOOG','APPL','AMZN','JPM','BAC']\n",
    "tickets = pd.Series(tech_finance)\n",
    "tickets_list = tickets.str.split(',',expand=True)#return a list as a column leading to a dataframe\n",
    "\n",
    "# Stacking string cells\n",
    "my_friends1 = pd.Series(['andrew','bobo','clair','david','5'])\n",
    "my_friends_no_whitelines = my_friends1.str.replace(',',' ') #Replace all , with space a.k.a white lines\n",
    "my_friends_no_whitelines_error = my_friends1.str.replace(',',' ').str.strip().str.capitalize()"
   ]
  }
 ],
 "metadata": {
  "kernelspec": {
   "display_name": "Python 3 (ipykernel)",
   "language": "python",
   "name": "python3"
  },
  "language_info": {
   "codemirror_mode": {
    "name": "ipython",
    "version": 3
   },
   "file_extension": ".py",
   "mimetype": "text/x-python",
   "name": "python",
   "nbconvert_exporter": "python",
   "pygments_lexer": "ipython3",
   "version": "3.9.13"
  }
 },
 "nbformat": 4,
 "nbformat_minor": 5
}
