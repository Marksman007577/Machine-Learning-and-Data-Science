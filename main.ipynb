{
 "cells": [
  {
   "cell_type": "code",
   "execution_count": 24,
   "id": "c2cfeafc",
   "metadata": {},
   "outputs": [],
   "source": [
    "import numpy as np\n",
    "import pandas as pd\n",
    "\n",
    "df = pd.read_csv(\"C:\\\\Users\\\\User\\\\Desktop\\\\Machine Learning and Data Science\\\\UNZIP_FOR_NOTEBOOKS_FINAL\\\\DATA\\\\tips.csv\")\n",
    "#print(df)"
   ]
  },
  {
   "cell_type": "code",
   "execution_count": 25,
   "id": "11b64652",
   "metadata": {},
   "outputs": [],
   "source": [
    "df[\"sex\"]\n",
    "df[\"sex\"] == \"male\".title()\n",
    "df[\"total_bill\"] >= 40\n",
    "result= df[(df[\"sex\"] == \"male\".title()) & (df[\"total_bill\"] >= 40)]"
   ]
  },
  {
   "cell_type": "code",
   "execution_count": 26,
   "id": "d2ff75d9",
   "metadata": {},
   "outputs": [
    {
     "name": "stdout",
     "output_type": "stream",
     "text": [
      "     total_bill    tip   sex smoker   day    time  size  price_per_person  \\\n",
      "59        48.27   6.73  Male     No   Sat  Dinner     4             12.07   \n",
      "95        40.17   4.73  Male    Yes   Fri  Dinner     4             10.04   \n",
      "142       41.19   5.00  Male     No  Thur   Lunch     5              8.24   \n",
      "156       48.17   5.00  Male     No   Sun  Dinner     6              8.03   \n",
      "170       50.81  10.00  Male    Yes   Sat  Dinner     3             16.94   \n",
      "182       45.35   3.50  Male    Yes   Sun  Dinner     3             15.12   \n",
      "184       40.55   3.00  Male    Yes   Sun  Dinner     2             20.27   \n",
      "212       48.33   9.00  Male     No   Sat  Dinner     4             12.08   \n",
      "\n",
      "          Payer Name     CC Number Payment ID  \n",
      "59       Brian Ortiz  6.596450e+15    Sat8139  \n",
      "95     Aaron Bentley  1.800270e+14    Fri9628  \n",
      "142     Eric Andrews  4.356530e+15   Thur3621  \n",
      "156    Ryan Gonzales  3.523150e+15    Sun7518  \n",
      "170    Gregory Clark  5.473850e+15    Sat1954  \n",
      "182     Jose Parsons  4.112210e+15    Sun2337  \n",
      "184      Stephen Cox  3.547800e+15    Sun5140  \n",
      "212  Alex Williamson  6.762190e+11    Sat4590  \n"
     ]
    }
   ],
   "source": [
    "print(result)"
   ]
  },
  {
   "cell_type": "code",
   "execution_count": null,
   "id": "b080f5e7",
   "metadata": {},
   "outputs": [],
   "source": []
  }
 ],
 "metadata": {
  "kernelspec": {
   "display_name": "Python 3 (ipykernel)",
   "language": "python",
   "name": "python3"
  },
  "language_info": {
   "codemirror_mode": {
    "name": "ipython",
    "version": 3
   },
   "file_extension": ".py",
   "mimetype": "text/x-python",
   "name": "python",
   "nbconvert_exporter": "python",
   "pygments_lexer": "ipython3",
   "version": "3.9.13"
  }
 },
 "nbformat": 4,
 "nbformat_minor": 5
}
